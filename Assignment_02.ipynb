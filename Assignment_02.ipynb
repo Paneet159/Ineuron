{
  "nbformat": 4,
  "nbformat_minor": 0,
  "metadata": {
    "colab": {
      "name": "Assignment 02.ipynb",
      "provenance": [],
      "collapsed_sections": []
    },
    "kernelspec": {
      "name": "python3",
      "display_name": "Python 3"
    },
    "language_info": {
      "name": "python"
    }
  },
  "cells": [
    {
      "cell_type": "markdown",
      "source": [
        "# Assignment 2"
      ],
      "metadata": {
        "id": "2jYcFNKHKFsq"
      }
    },
    {
      "cell_type": "markdown",
      "source": [
        "**1. What are the two values of the boolean data types? how do you write them ?**"
      ],
      "metadata": {
        "id": "gL4Kv-ZrKZat"
      }
    },
    {
      "cell_type": "code",
      "source": [
        "a = True\n",
        "b = False\n",
        "print(a, type(a))\n",
        "print(b, type(b))"
      ],
      "metadata": {
        "colab": {
          "base_uri": "https://localhost:8080/"
        },
        "id": "ppMXdMt8Aft_",
        "outputId": "700e099c-43cc-4333-b8ad-37362324f1bd"
      },
      "execution_count": 2,
      "outputs": [
        {
          "output_type": "stream",
          "name": "stdout",
          "text": [
            "True <class 'bool'>\n",
            "False <class 'bool'>\n"
          ]
        }
      ]
    },
    {
      "cell_type": "markdown",
      "source": [
        "**2. What are the three different types of Boolean operators?**\n",
        "\n",
        "**Ans :-** And, Or, Not"
      ],
      "metadata": {
        "id": "SVQBTwVaK3Oz"
      }
    },
    {
      "cell_type": "code",
      "source": [
        "# Example of boolean operators\n",
        "a = 25\n",
        "b = 50\n",
        "print(a>20 and b>25)\n",
        "print(a>25 or b>25)\n",
        "print(not (a>30))\n"
      ],
      "metadata": {
        "colab": {
          "base_uri": "https://localhost:8080/"
        },
        "id": "ZfGVFP9xKql7",
        "outputId": "8cd4f24a-96d4-4677-aed7-20aeeaecab40"
      },
      "execution_count": 4,
      "outputs": [
        {
          "output_type": "stream",
          "name": "stdout",
          "text": [
            "True\n",
            "True\n",
            "True\n"
          ]
        }
      ]
    },
    {
      "cell_type": "markdown",
      "source": [
        "**3. Make a list of each Boolean operator's truth tables (i.e. every possible combination of Boolean values for the operator and what it evaluate) ?**"
      ],
      "metadata": {
        "id": "zHzVekInL8kZ"
      }
    },
    {
      "cell_type": "markdown",
      "source": [
        "**Ans :-** Truth table of boolean operator: ( True - T, False - F )\n",
        "\n",
        "\n",
        "*   **and** operator\n",
        "\n",
        "1.   T  T  T\n",
        "2.   T  F  F\n",
        "3.   F  T  F\n",
        "4.   F  F  F\n",
        "\n",
        "*   **or** operator\n",
        "\n",
        "1.   T  T  T\n",
        "2.   T  F  T\n",
        "3.   F  T  T\n",
        "4.   F  F  F\n",
        "\n",
        "\n",
        "*   not operator\n",
        "\n",
        "1.   T F\n",
        "2.   F T\n",
        "\n",
        "\n",
        "\n",
        "\n",
        "\n",
        "\n",
        "\n",
        "\n",
        "\n",
        "\n",
        "\n",
        "\n",
        "\n",
        "\n"
      ],
      "metadata": {
        "id": "TwOJKD2hMZYM"
      }
    },
    {
      "cell_type": "markdown",
      "source": [
        "**4. What are the values of the following expressions ?**\n",
        "\n",
        "\n",
        "*  (5 > 4) and (3 == 5) \n",
        "*   not (5 > 4)\n",
        "*   (5 > 4) or (3 == 5)\n",
        "*   not ((5 > 4) or (3 == 5))\n",
        "*   (True and True) and (True == False)\n",
        "*   (not False) or (not True)\n",
        "\n"
      ],
      "metadata": {
        "id": "C5y6kPlKQaY4"
      }
    },
    {
      "cell_type": "code",
      "source": [
        "print((5>4)and(3==5)) # False\n",
        "print(not(5>4)) # False\n",
        "print((5>4)or(3==5)) # True\n",
        "print(not((5>4)or(3==5))) # False\n",
        "print((True and True)and(True==False)) # False\n",
        "print((not False)or(not True)) # True"
      ],
      "metadata": {
        "colab": {
          "base_uri": "https://localhost:8080/"
        },
        "id": "nMirPNOhRmQJ",
        "outputId": "19585a5c-b8e3-45c6-d72b-e9c53f3da66b"
      },
      "execution_count": 5,
      "outputs": [
        {
          "output_type": "stream",
          "name": "stdout",
          "text": [
            "False\n",
            "False\n",
            "True\n",
            "False\n",
            "False\n",
            "True\n"
          ]
        }
      ]
    },
    {
      "cell_type": "markdown",
      "source": [
        "**5. What are the six comparison operators?**\n",
        "\n",
        "**Ans:-**   ==, >, <, >=, <=, != "
      ],
      "metadata": {
        "id": "XL-AcWvRSWcQ"
      }
    },
    {
      "cell_type": "markdown",
      "source": [
        "**6. How do you tell the difference between the equal to and assignment operators?Describe a condition and when you would use one ?**\n",
        "\n",
        "**Ans :-** \n",
        "\n",
        "*   == It compares two values and return values\n",
        "*   = It stores a value in a variable\n",
        "\n"
      ],
      "metadata": {
        "id": "pCn4BO5nTdwo"
      }
    },
    {
      "cell_type": "code",
      "source": [
        "x = 10  # It stores values in variable x\n",
        "\n",
        "if x==10: # It compares values of variable x and 10\n",
        "  print(x==10)"
      ],
      "metadata": {
        "colab": {
          "base_uri": "https://localhost:8080/"
        },
        "id": "EyWVrCR0UARR",
        "outputId": "74ebaf60-bff1-4a1c-d992-336a4c83e258"
      },
      "execution_count": 10,
      "outputs": [
        {
          "output_type": "stream",
          "name": "stdout",
          "text": [
            "True\n"
          ]
        }
      ]
    },
    {
      "cell_type": "markdown",
      "source": [
        "**7. Identify the three blocks in this code:**\n",
        "\n",
        "\n",
        "   spam = 0\n",
        "\n",
        "   if spam == 10:\n",
        "\n",
        "   print('eggs')\n",
        "\n",
        "   if spam > 5:\n",
        "\n",
        "   print('bacon')\n",
        "\n",
        "   else:\n",
        "\n",
        "   print('ham')\n",
        "\n",
        "   print('spam')\n",
        "\n",
        "   print('spam')"
      ],
      "metadata": {
        "id": "ogSWr56OWHjk"
      }
    },
    {
      "cell_type": "code",
      "source": [
        "spam = 0\n",
        "if spam == 10:\n",
        "  print('eggs')\n",
        "if spam > 5:\n",
        "  print('bacon')\n",
        "else:\n",
        "  print('ham')\n",
        "print('spam')\n",
        "print('spam')"
      ],
      "metadata": {
        "colab": {
          "base_uri": "https://localhost:8080/"
        },
        "id": "H1F9fTHiWfqU",
        "outputId": "da1abfa9-320e-4113-cb30-b8367194a9df"
      },
      "execution_count": 14,
      "outputs": [
        {
          "output_type": "stream",
          "name": "stdout",
          "text": [
            "ham\n",
            "spam\n",
            "spam\n"
          ]
        }
      ]
    },
    {
      "cell_type": "markdown",
      "source": [
        "**8. Write code that prints Hello if 1 is stored in spam, prints Howdy if 2 is stored in spam, and prints Greetings! if anything else is stored in spam.**"
      ],
      "metadata": {
        "id": "z3Tt2cM6ZGmS"
      }
    },
    {
      "cell_type": "code",
      "source": [
        "def store(spam):\n",
        "  if spam == 1:\n",
        "    print('Hello')\n",
        "  elif spam == 2:\n",
        "    print('Howdy')\n",
        "  else:\n",
        "    print('Greetings!')\n",
        "\n",
        "store(1)\n",
        "store(2)\n",
        "store(3)"
      ],
      "metadata": {
        "colab": {
          "base_uri": "https://localhost:8080/"
        },
        "id": "lrNbPaYjZOeJ",
        "outputId": "c3b09193-f61d-40dd-c02a-74f0564bc3fb"
      },
      "execution_count": 18,
      "outputs": [
        {
          "output_type": "stream",
          "name": "stdout",
          "text": [
            "Hello\n",
            "Howdy\n",
            "Greetings!\n"
          ]
        }
      ]
    },
    {
      "cell_type": "markdown",
      "source": [
        "**9.If your programme is stuck in an endless loop, what keys you’ll press?**\n",
        "\n",
        "**Ans :-** *ctrl-c* used to stop infinite loop"
      ],
      "metadata": {
        "id": "nHSqbi3_iW-B"
      }
    },
    {
      "cell_type": "markdown",
      "source": [
        "**10. How can you tell the difference between break and continue?**\n",
        "\n",
        "**Ans:-** \n",
        "\n",
        "*   **break** Execution will stop afterwards in that loop\n",
        "*   **continue** Execution will go to next iteration \n",
        "\n"
      ],
      "metadata": {
        "id": "ixK0lW6Ni_F9"
      }
    },
    {
      "cell_type": "markdown",
      "source": [
        "**10. How can you tell the difference between break and continue?**\n",
        "\n",
        "**Ans:-** \n",
        "\n",
        "1.   **range(10)** It will start from 0 to 9, excluding 10\n",
        "2.   **range(0,10)** It start at 0 goes till 9, starting point is fixed\n",
        "3.   **range(0,10,1)** Loop increases by 1 on each iteration\n",
        "\n",
        "\n",
        "\n",
        "\n"
      ],
      "metadata": {
        "id": "bbmUPrE_kbk4"
      }
    },
    {
      "cell_type": "markdown",
      "source": [
        "**12. Write a short program that prints the numbers 1 to 10 using a for loop. Then write an equivalent program that prints the numbers 1 to 10 using a while loop ?**"
      ],
      "metadata": {
        "id": "AD8DhCU_m1LR"
      }
    },
    {
      "cell_type": "code",
      "source": [
        "print('-'*10, \"using for loop\", '-'*10 )\n",
        "for i in range(1,11):\n",
        "  print(i, end=\" \")\n",
        "print('\\n')\n",
        "\n",
        "print('-'*10, \"using while loop\", '-'*10 )\n",
        "i=1\n",
        "while i<11:\n",
        "  print(i, end=\" \")\n",
        "  i+=1"
      ],
      "metadata": {
        "colab": {
          "base_uri": "https://localhost:8080/"
        },
        "id": "4DqYwV0YoneF",
        "outputId": "2c3ba6ba-1c45-452f-ec38-dc83b5b825c6"
      },
      "execution_count": 30,
      "outputs": [
        {
          "output_type": "stream",
          "name": "stdout",
          "text": [
            "---------- using for loop ----------\n",
            "1 2 3 4 5 6 7 8 9 10 \n",
            "\n",
            "---------- using while loop ----------\n",
            "1 2 3 4 5 6 7 8 9 10 "
          ]
        }
      ]
    },
    {
      "cell_type": "markdown",
      "source": [
        "**13. If you had a function named bacon() inside a module named spam, how would you call it after importing spam ?**\n",
        "\n",
        "**Ans:-** It can be called with spam.bacon()"
      ],
      "metadata": {
        "id": "AdxU8fZnyCA0"
      }
    }
  ]
}